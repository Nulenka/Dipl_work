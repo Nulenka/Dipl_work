{
 "cells": [
  {
   "cell_type": "code",
   "execution_count": 30,
   "id": "d6ca460a",
   "metadata": {},
   "outputs": [],
   "source": [
    "import pandas as pd\n",
    "import numpy as np\n",
    "from sklearn import linear_model\n",
    "RS = 7092022"
   ]
  },
  {
   "cell_type": "code",
   "execution_count": 31,
   "id": "1a199436",
   "metadata": {},
   "outputs": [
    {
     "data": {
      "text/html": [
       "<div>\n",
       "<style scoped>\n",
       "    .dataframe tbody tr th:only-of-type {\n",
       "        vertical-align: middle;\n",
       "    }\n",
       "\n",
       "    .dataframe tbody tr th {\n",
       "        vertical-align: top;\n",
       "    }\n",
       "\n",
       "    .dataframe thead th {\n",
       "        text-align: right;\n",
       "    }\n",
       "</style>\n",
       "<table border=\"1\" class=\"dataframe\">\n",
       "  <thead>\n",
       "    <tr style=\"text-align: right;\">\n",
       "      <th></th>\n",
       "      <th>Species</th>\n",
       "      <th>Weight</th>\n",
       "      <th>Length</th>\n",
       "      <th>Height</th>\n",
       "      <th>Width</th>\n",
       "      <th>Days</th>\n",
       "      <th>Gender</th>\n",
       "    </tr>\n",
       "  </thead>\n",
       "  <tbody>\n",
       "    <tr>\n",
       "      <th>0</th>\n",
       "      <td>Bream</td>\n",
       "      <td>242.0</td>\n",
       "      <td>30.0</td>\n",
       "      <td>11.5200</td>\n",
       "      <td>2.140856</td>\n",
       "      <td>44.950718</td>\n",
       "      <td>0</td>\n",
       "    </tr>\n",
       "    <tr>\n",
       "      <th>1</th>\n",
       "      <td>Bream</td>\n",
       "      <td>290.0</td>\n",
       "      <td>31.2</td>\n",
       "      <td>12.4800</td>\n",
       "      <td>3.360002</td>\n",
       "      <td>54.654179</td>\n",
       "      <td>0</td>\n",
       "    </tr>\n",
       "    <tr>\n",
       "      <th>2</th>\n",
       "      <td>Bream</td>\n",
       "      <td>340.0</td>\n",
       "      <td>31.1</td>\n",
       "      <td>12.3778</td>\n",
       "      <td>4.201341</td>\n",
       "      <td>25.640887</td>\n",
       "      <td>0</td>\n",
       "    </tr>\n",
       "  </tbody>\n",
       "</table>\n",
       "</div>"
      ],
      "text/plain": [
       "  Species  Weight  Length   Height     Width       Days  Gender\n",
       "0   Bream   242.0    30.0  11.5200  2.140856  44.950718       0\n",
       "1   Bream   290.0    31.2  12.4800  3.360002  54.654179       0\n",
       "2   Bream   340.0    31.1  12.3778  4.201341  25.640887       0"
      ]
     },
     "execution_count": 31,
     "metadata": {},
     "output_type": "execute_result"
    }
   ],
   "source": [
    "df = pd.read_csv('fish_final.csv')\n",
    "df.head(3)"
   ]
  },
  {
   "cell_type": "code",
   "execution_count": 32,
   "id": "c76b0a01",
   "metadata": {},
   "outputs": [
    {
     "data": {
      "text/plain": [
       "Species     object\n",
       "Weight     float64\n",
       "Length     float64\n",
       "Height     float64\n",
       "Width      float64\n",
       "Days       float64\n",
       "Gender       int64\n",
       "dtype: object"
      ]
     },
     "execution_count": 32,
     "metadata": {},
     "output_type": "execute_result"
    }
   ],
   "source": [
    "df.dtypes"
   ]
  },
  {
   "cell_type": "code",
   "execution_count": 33,
   "id": "21015e13",
   "metadata": {},
   "outputs": [],
   "source": [
    "df = df.drop(columns=['Species'], axis=1)\n",
    "df = df.drop(columns=['Days'], axis=1)"
   ]
  },
  {
   "cell_type": "code",
   "execution_count": 36,
   "id": "921597ef",
   "metadata": {},
   "outputs": [
    {
     "data": {
      "image/png": "[encoded data removed]",
      "text/plain": [
       "<Figure size 720x216 with 2 Axes>"
      ]
     },
     "metadata": {
      "needs_background": "light"
     },
     "output_type": "display_data"
    }
   ],
   "source": [
    "import matplotlib.pyplot as plt\n",
    "corr = df.corr()\n",
    "\n",
    "import seaborn as sns\n",
    "plt.figure(figsize=(10, 3))\n",
    "sns.heatmap(corr,\n",
    "        xticklabels=corr.columns,\n",
    "        yticklabels=corr.columns, annot=True, linewidths=1, linecolor='black')\n",
    "plt.show()"
   ]
  },
  {
   "cell_type": "code",
   "execution_count": 37,
   "id": "c0489356",
   "metadata": {},
   "outputs": [
    {
     "data": {
      "text/plain": [
       "((159,), (159, 4))"
      ]
     },
     "execution_count": 37,
     "metadata": {},
     "output_type": "execute_result"
    }
   ],
   "source": [
    "y = df['Weight']\n",
    "X = df.drop('Weight', axis = 1)\n",
    "y.shape, X.shape"
   ]
  },
  {
   "cell_type": "code",
   "execution_count": 38,
   "id": "bac0442b",
   "metadata": {},
   "outputs": [],
   "source": [
    "from sklearn.model_selection import train_test_split\n",
    "X_train, X_test, y_train, y_test = train_test_split(X, y, test_size=0.2, random_state = RS)\n",
    "#X_train.head()"
   ]
  },
  {
   "cell_type": "code",
   "execution_count": 39,
   "id": "cd2a12e9",
   "metadata": {},
   "outputs": [
    {
     "data": {
      "text/html": [
       "<div>\n",
       "<style scoped>\n",
       "    .dataframe tbody tr th:only-of-type {\n",
       "        vertical-align: middle;\n",
       "    }\n",
       "\n",
       "    .dataframe tbody tr th {\n",
       "        vertical-align: top;\n",
       "    }\n",
       "\n",
       "    .dataframe thead th {\n",
       "        text-align: right;\n",
       "    }\n",
       "</style>\n",
       "<table border=\"1\" class=\"dataframe\">\n",
       "  <thead>\n",
       "    <tr style=\"text-align: right;\">\n",
       "      <th></th>\n",
       "      <th>0</th>\n",
       "      <th>1</th>\n",
       "      <th>2</th>\n",
       "      <th>3</th>\n",
       "    </tr>\n",
       "  </thead>\n",
       "  <tbody>\n",
       "    <tr>\n",
       "      <th>0</th>\n",
       "      <td>0.677208</td>\n",
       "      <td>0.403823</td>\n",
       "      <td>0.766209</td>\n",
       "      <td>1.759765</td>\n",
       "    </tr>\n",
       "    <tr>\n",
       "      <th>1</th>\n",
       "      <td>-0.783458</td>\n",
       "      <td>-0.763892</td>\n",
       "      <td>-0.019082</td>\n",
       "      <td>-0.568258</td>\n",
       "    </tr>\n",
       "    <tr>\n",
       "      <th>2</th>\n",
       "      <td>0.859791</td>\n",
       "      <td>0.539018</td>\n",
       "      <td>1.342023</td>\n",
       "      <td>1.759765</td>\n",
       "    </tr>\n",
       "    <tr>\n",
       "      <th>3</th>\n",
       "      <td>-0.244403</td>\n",
       "      <td>-0.120610</td>\n",
       "      <td>-0.297111</td>\n",
       "      <td>-0.568258</td>\n",
       "    </tr>\n",
       "    <tr>\n",
       "      <th>4</th>\n",
       "      <td>-0.696513</td>\n",
       "      <td>-0.720215</td>\n",
       "      <td>-1.117441</td>\n",
       "      <td>-0.568258</td>\n",
       "    </tr>\n",
       "  </tbody>\n",
       "</table>\n",
       "</div>"
      ],
      "text/plain": [
       "          0         1         2         3\n",
       "0  0.677208  0.403823  0.766209  1.759765\n",
       "1 -0.783458 -0.763892 -0.019082 -0.568258\n",
       "2  0.859791  0.539018  1.342023  1.759765\n",
       "3 -0.244403 -0.120610 -0.297111 -0.568258\n",
       "4 -0.696513 -0.720215 -1.117441 -0.568258"
      ]
     },
     "execution_count": 39,
     "metadata": {},
     "output_type": "execute_result"
    }
   ],
   "source": [
    "from sklearn.preprocessing import StandardScaler\n",
    "\n",
    "sc_x = StandardScaler()\n",
    "sc_y = StandardScaler()\n",
    "\n",
    "X_train_scalled = sc_x.fit_transform(X_train)\n",
    "X_test_scalled = sc_x.transform(X_test)\n",
    "\n",
    "y_train_scalled = sc_y.fit_transform(np.array(y_train).reshape(-1, 1))\n",
    "y_test_scalled = sc_y.transform(np.array(y_test).reshape(-1, 1))\n",
    "\n",
    "pd.DataFrame(X_train_scalled).head()"
   ]
  },
  {
   "cell_type": "code",
   "execution_count": 40,
   "id": "63666a6f",
   "metadata": {},
   "outputs": [
    {
     "data": {
      "text/plain": [
       "array([ 17.28043436,   4.2427348 ,  14.55583428, 317.26652491])"
      ]
     },
     "execution_count": 40,
     "metadata": {},
     "output_type": "execute_result"
    }
   ],
   "source": [
    "from sklearn.metrics import mean_absolute_error\n",
    "\n",
    "reg = linear_model.LinearRegression()\n",
    "reg.fit(X_train, y_train)\n",
    "reg.coef_"
   ]
  },
  {
   "cell_type": "code",
   "execution_count": 41,
   "id": "6ce43fc1",
   "metadata": {},
   "outputs": [],
   "source": [
    "y_pr = reg.predict(X_test)"
   ]
  },
  {
   "cell_type": "code",
   "execution_count": 42,
   "id": "0b8cdde5",
   "metadata": {},
   "outputs": [],
   "source": [
    "def regression_results(y_true, y_pred,n,p):\n",
    "\n",
    "    # Regression metrics\n",
    "    explained_variance=metrics.explained_variance_score(y_true, y_pred)\n",
    "    mean_absolute_error=metrics.mean_absolute_error(y_true, y_pred) \n",
    "    mse=metrics.mean_squared_error(y_true, y_pred) \n",
    "    median_absolute_error=metrics.median_absolute_error(y_true, y_pred)\n",
    "    r2=metrics.r2_score(y_true, y_pred)\n",
    "\n",
    "    print('Adj_r2: ', round(1-(1-r2)*(n-1)/(n-p-1),4))    \n",
    "    print('r2: ', round(r2,4))\n",
    "    print('MAE: ', round(mean_absolute_error,4))\n",
    "    print('MSE: ', round(mse,4))\n",
    "    print('RMSE: ', round(np.sqrt(mse),4))"
   ]
  },
  {
   "cell_type": "code",
   "execution_count": 43,
   "id": "ff44c62a",
   "metadata": {},
   "outputs": [
    {
     "name": "stdout",
     "output_type": "stream",
     "text": [
      "Adj_r2:  0.9242\n",
      "r2:  0.934\n",
      "MAE:  64.1076\n",
      "MSE:  9172.9632\n",
      "RMSE:  95.7756\n"
     ]
    }
   ],
   "source": [
    "regression_results(y_test, y_pr, X_test_scalled.shape[0], X_test_scalled.shape[1])"
   ]
  },
  {
   "cell_type": "code",
   "execution_count": 44,
   "id": "51063201",
   "metadata": {},
   "outputs": [
    {
     "name": "stdout",
     "output_type": "stream",
     "text": [
      "Index(['Weight', 'Length', 'Height', 'Width', 'Gender'], dtype='object')\n",
      "                            OLS Regression Results                            \n",
      "==============================================================================\n",
      "Dep. Variable:                      y   R-squared:                       0.939\n",
      "Model:                            OLS   Adj. R-squared:                  0.937\n",
      "Method:                 Least Squares   F-statistic:                     470.2\n",
      "Date:                Mon, 26 Sep 2022   Prob (F-statistic):           4.28e-73\n",
      "Time:                        02:38:06   Log-Likelihood:                -2.5096\n",
      "No. Observations:                 127   AIC:                             15.02\n",
      "Df Residuals:                     122   BIC:                             29.24\n",
      "Df Model:                           4                                         \n",
      "Covariance Type:            nonrobust                                         \n",
      "==============================================================================\n",
      "                 coef    std err          t      P>|t|      [0.025      0.975]\n",
      "------------------------------------------------------------------------------\n",
      "const       4.163e-17      0.022   1.86e-15      1.000      -0.044       0.044\n",
      "x1             0.5635      0.043     13.091      0.000       0.478       0.649\n",
      "x2             0.0503      0.034      1.483      0.141      -0.017       0.117\n",
      "x3             0.0740      0.045      1.659      0.100      -0.014       0.162\n",
      "x4             0.3864      0.032     12.232      0.000       0.324       0.449\n",
      "==============================================================================\n",
      "Omnibus:                       13.517   Durbin-Watson:                   1.669\n",
      "Prob(Omnibus):                  0.001   Jarque-Bera (JB):               18.771\n",
      "Skew:                           0.570   Prob(JB):                     8.39e-05\n",
      "Kurtosis:                       4.499   Cond. No.                         4.40\n",
      "==============================================================================\n",
      "\n",
      "Notes:\n",
      "[1] Standard Errors assume that the covariance matrix of the errors is correctly specified.\n"
     ]
    }
   ],
   "source": [
    "import statsmodels.api as sm\n",
    "import statsmodels.formula.api as smf\n",
    "\n",
    "X_train_scalled = sm.add_constant(X_train_scalled)\n",
    "X_test_scalled = sm.add_constant(X_test_scalled)\n",
    "\n",
    "model = sm.OLS(y_train_scalled, X_train_scalled).fit()\n",
    "\n",
    "y_pr_scalled = model.predict(X_test_scalled) \n",
    "y_pr = sc_y.inverse_transform(np.array(y_pr_scalled).reshape(-1, 1))\n",
    "\n",
    "print_model = model.summary()\n",
    "print(df.columns)\n",
    "print(print_model)"
   ]
  }
 ],
 "metadata": {
  "kernelspec": {
   "display_name": "Python 3 (ipykernel)",
   "language": "python",
   "name": "python3"
  },
  "language_info": {
   "codemirror_mode": {
    "name": "ipython",
    "version": 3
   },
   "file_extension": ".py",
   "mimetype": "text/x-python",
   "name": "python",
   "nbconvert_exporter": "python",
   "pygments_lexer": "ipython3",
   "version": "3.9.12"
  }
 },
 "nbformat": 4,
 "nbformat_minor": 5
}
